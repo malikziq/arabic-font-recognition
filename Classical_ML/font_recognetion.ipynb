{
 "cells": [
  {
   "cell_type": "markdown",
   "metadata": {},
   "source": [
    "# Font Recognetion\n",
    "\n",
    "### Classical method\n",
    "    - BOVW \n",
    "    - SIFT\n",
    "    - K-Means clustring\n",
    "    - SVM || Random Forest\n"
   ]
  },
  {
   "cell_type": "markdown",
   "metadata": {},
   "source": [
    "## SIFT\n"
   ]
  },
  {
   "cell_type": "code",
   "execution_count": 65,
   "metadata": {},
   "outputs": [
    {
     "name": "stdout",
     "output_type": "stream",
     "text": [
      "Total number of Classes:  5 - Total number of images:  94485 94485\n"
     ]
    }
   ],
   "source": [
    "# Load Data\n",
    "data_classes, classes_values, data_values, total_data_count = joblib.load(\"words_img_values.pkl\")\n",
    "print('Total number of Classes: ', len(data_classes), '- Total number of images: ', total_data_count, len(data_values))"
   ]
  },
  {
   "cell_type": "code",
   "execution_count": 20,
   "metadata": {},
   "outputs": [],
   "source": [
    "# Init SIFT\n",
    "sift_object = cv2.xfeatures2d.SIFT_create()"
   ]
  },
  {
   "cell_type": "code",
   "execution_count": 32,
   "metadata": {},
   "outputs": [],
   "source": [
    "# Increase `Image` borders by `bordersize` for each side with value 255 (White)\n",
    "def border_image(image, bordersize):\n",
    "    border = cv2.copyMakeBorder(\n",
    "        image,\n",
    "        top=bordersize,\n",
    "        bottom=bordersize,\n",
    "        left=bordersize,\n",
    "        right=bordersize,\n",
    "        borderType=cv2.BORDER_CONSTANT,\n",
    "        value=[255, 255, 255]\n",
    "    )\n",
    "    return border"
   ]
  },
  {
   "cell_type": "code",
   "execution_count": 75,
   "metadata": {},
   "outputs": [
    {
     "name": "stderr",
     "output_type": "stream",
     "text": [
      "\n",
      "\n",
      "\n",
      "\n",
      "100%|██████████| 20000/20000 [02:05<00:00, 158.91it/s]\u001b[A\u001b[A\u001b[A\u001b[A\n"
     ]
    }
   ],
   "source": [
    "# Extract + Descripe Featuers \n",
    "images_featuers_descriptions = []\n",
    "for img in tqdm(data_values[:20000]):\n",
    "    try:\n",
    "        clear_output(wait=True)\n",
    "        # Make a border for the image since some times SIFT fails with small images\n",
    "        # by expermint making border 100+ works very well\n",
    "        image = border_image(img, 100)\n",
    "        # Feature Extracting\n",
    "        key_points, descrptions = sift_object.detectAndCompute(image, None)\n",
    "        # Some times Sift doesn't detect featuers,\n",
    "        # but the arrays must have constant length so it won't blow up\n",
    "        if descrptions is None:\n",
    "            descrptions = np.array([[0.0] * 128])\n",
    "            \n",
    "        images_featuers_descriptions.append(descrptions)\n",
    "        \n",
    "    except NameError:\n",
    "            print('error :', cv, imagePath)"
   ]
  },
  {
   "cell_type": "markdown",
   "metadata": {},
   "source": [
    "## K-Means"
   ]
  },
  {
   "cell_type": "code",
   "execution_count": 76,
   "metadata": {},
   "outputs": [
    {
     "name": "stderr",
     "output_type": "stream",
     "text": [
      "100%|██████████| 19999/19999 [03:18<00:00, 100.58it/s]"
     ]
    },
    {
     "name": "stdout",
     "output_type": "stream",
     "text": [
      "49478\n"
     ]
    },
    {
     "name": "stderr",
     "output_type": "stream",
     "text": [
      "\n"
     ]
    }
   ],
   "source": [
    "# Vstack all images featuers\n",
    "vstacked_descriptions = images_featuers_descriptions[0]\n",
    "for description in tqdm(images_featuers_descriptions[1:]):\n",
    "    clear_output(wait=True)\n",
    "    vstacked_descriptions = np.vstack((vstacked_descriptions, description))\n",
    "    \n",
    "# Set data type to float32\n",
    "vstacked_descriptions = np.array(vstacked_descriptions, \"float32\")\n",
    "print(len(vstacked_descriptions))"
   ]
  },
  {
   "cell_type": "code",
   "execution_count": 77,
   "metadata": {},
   "outputs": [],
   "source": [
    "# Mesure Clusters\n",
    "from scipy.cluster.vq import kmeans, vq\n",
    "k = 100\n",
    "code_book, variance = kmeans(vstacked_descriptions, k, 1)"
   ]
  },
  {
   "cell_type": "code",
   "execution_count": 88,
   "metadata": {},
   "outputs": [
    {
     "name": "stderr",
     "output_type": "stream",
     "text": [
      "IOPub message rate exceeded.\n",
      "The notebook server will temporarily stop sending output\n",
      "to the client in order to avoid crashing it.\n",
      "To change this limit, set the config variable\n",
      "`--NotebookApp.iopub_msg_rate_limit`.\n",
      "\n",
      "Current values:\n",
      "NotebookApp.iopub_msg_rate_limit=1000.0 (msgs/sec)\n",
      "NotebookApp.rate_limit_window=3.0 (secs)\n",
      "\n"
     ]
    }
   ],
   "source": [
    "# Setting up Code Book\n",
    "images_bow_featuers = np.zeros((len(images_featuers_descriptions), k), \"float32\")\n",
    "for i in tqdm(range(len(images_featuers_descriptions))):\n",
    "    clear_output(wait=True)\n",
    "    words, distance = vq(images_featuers_descriptions[i], code_book)\n",
    "    for w in words:\n",
    "        images_bow_featuers[i][w] += 1"
   ]
  },
  {
   "cell_type": "code",
   "execution_count": 90,
   "metadata": {},
   "outputs": [],
   "source": [
    "# Calculate TF-IDF\n",
    "nbr_occerances = np.sum((images_bow_featuers > 0) * 1, axis=0)\n",
    "idf = np.array(np.log((1.0 * len(images_featuers_descriptions) + 1) / (1.0 * nbr_occerances + 1)), 'float32')"
   ]
  },
  {
   "cell_type": "code",
   "execution_count": 91,
   "metadata": {},
   "outputs": [],
   "source": [
    "images_idf_featuers = np.multiply(images_bow_featuers, idf[np.newaxis, :])"
   ]
  },
  {
   "cell_type": "code",
   "execution_count": 92,
   "metadata": {},
   "outputs": [
    {
     "name": "stdout",
     "output_type": "stream",
     "text": [
      "20000\n"
     ]
    }
   ],
   "source": [
    "print(len(images_bow_featuers))"
   ]
  },
  {
   "cell_type": "markdown",
   "metadata": {},
   "source": [
    "## SVM"
   ]
  },
  {
   "cell_type": "code",
   "execution_count": 93,
   "metadata": {},
   "outputs": [],
   "source": [
    "from sklearn.preprocessing import StandardScaler\n",
    "from sklearn.svm import LinearSVC\n",
    "\n",
    "std_slr = StandardScaler().fit(images_bow_featuers)\n",
    "images_idf_featuers = std_slr.transform(images_idf_featuers)"
   ]
  },
  {
   "cell_type": "code",
   "execution_count": 97,
   "metadata": {},
   "outputs": [],
   "source": [
    "clf = LinearSVC(max_iter=100000)"
   ]
  },
  {
   "cell_type": "code",
   "execution_count": 98,
   "metadata": {},
   "outputs": [],
   "source": [
    "#Random forest\n",
    "#from sklearn.ensemble import  RandomForestClassifier\n",
    "#clf = RandomForestClassifier(n_estimators= 5000, random_state= 100)"
   ]
  },
  {
   "cell_type": "code",
   "execution_count": 99,
   "metadata": {},
   "outputs": [
    {
     "ename": "KeyboardInterrupt",
     "evalue": "",
     "output_type": "error",
     "traceback": [
      "\u001b[0;31m---------------------------------------------------------------------------\u001b[0m",
      "\u001b[0;31mKeyboardInterrupt\u001b[0m                         Traceback (most recent call last)",
      "\u001b[0;32m<ipython-input-99-aa64a9602f45>\u001b[0m in \u001b[0;36m<module>\u001b[0;34m\u001b[0m\n\u001b[0;32m----> 1\u001b[0;31m \u001b[0mclf\u001b[0m\u001b[0;34m.\u001b[0m\u001b[0mfit\u001b[0m\u001b[0;34m(\u001b[0m\u001b[0mimages_idf_featuers\u001b[0m\u001b[0;34m,\u001b[0m \u001b[0mnp\u001b[0m\u001b[0;34m.\u001b[0m\u001b[0marray\u001b[0m\u001b[0;34m(\u001b[0m\u001b[0mclasses_values\u001b[0m\u001b[0;34m[\u001b[0m\u001b[0;34m:\u001b[0m\u001b[0;36m20000\u001b[0m\u001b[0;34m]\u001b[0m\u001b[0;34m)\u001b[0m\u001b[0;34m)\u001b[0m\u001b[0;34m\u001b[0m\u001b[0;34m\u001b[0m\u001b[0m\n\u001b[0m",
      "\u001b[0;32m~/opt/anaconda3/lib/python3.7/site-packages/sklearn/svm/classes.py\u001b[0m in \u001b[0;36mfit\u001b[0;34m(self, X, y, sample_weight)\u001b[0m\n\u001b[1;32m    235\u001b[0m             \u001b[0mself\u001b[0m\u001b[0;34m.\u001b[0m\u001b[0mclass_weight\u001b[0m\u001b[0;34m,\u001b[0m \u001b[0mself\u001b[0m\u001b[0;34m.\u001b[0m\u001b[0mpenalty\u001b[0m\u001b[0;34m,\u001b[0m \u001b[0mself\u001b[0m\u001b[0;34m.\u001b[0m\u001b[0mdual\u001b[0m\u001b[0;34m,\u001b[0m \u001b[0mself\u001b[0m\u001b[0;34m.\u001b[0m\u001b[0mverbose\u001b[0m\u001b[0;34m,\u001b[0m\u001b[0;34m\u001b[0m\u001b[0;34m\u001b[0m\u001b[0m\n\u001b[1;32m    236\u001b[0m             \u001b[0mself\u001b[0m\u001b[0;34m.\u001b[0m\u001b[0mmax_iter\u001b[0m\u001b[0;34m,\u001b[0m \u001b[0mself\u001b[0m\u001b[0;34m.\u001b[0m\u001b[0mtol\u001b[0m\u001b[0;34m,\u001b[0m \u001b[0mself\u001b[0m\u001b[0;34m.\u001b[0m\u001b[0mrandom_state\u001b[0m\u001b[0;34m,\u001b[0m \u001b[0mself\u001b[0m\u001b[0;34m.\u001b[0m\u001b[0mmulti_class\u001b[0m\u001b[0;34m,\u001b[0m\u001b[0;34m\u001b[0m\u001b[0;34m\u001b[0m\u001b[0m\n\u001b[0;32m--> 237\u001b[0;31m             self.loss, sample_weight=sample_weight)\n\u001b[0m\u001b[1;32m    238\u001b[0m \u001b[0;34m\u001b[0m\u001b[0m\n\u001b[1;32m    239\u001b[0m         \u001b[0;32mif\u001b[0m \u001b[0mself\u001b[0m\u001b[0;34m.\u001b[0m\u001b[0mmulti_class\u001b[0m \u001b[0;34m==\u001b[0m \u001b[0;34m\"crammer_singer\"\u001b[0m \u001b[0;32mand\u001b[0m \u001b[0mlen\u001b[0m\u001b[0;34m(\u001b[0m\u001b[0mself\u001b[0m\u001b[0;34m.\u001b[0m\u001b[0mclasses_\u001b[0m\u001b[0;34m)\u001b[0m \u001b[0;34m==\u001b[0m \u001b[0;36m2\u001b[0m\u001b[0;34m:\u001b[0m\u001b[0;34m\u001b[0m\u001b[0;34m\u001b[0m\u001b[0m\n",
      "\u001b[0;32m~/opt/anaconda3/lib/python3.7/site-packages/sklearn/svm/base.py\u001b[0m in \u001b[0;36m_fit_liblinear\u001b[0;34m(X, y, C, fit_intercept, intercept_scaling, class_weight, penalty, dual, verbose, max_iter, tol, random_state, multi_class, loss, epsilon, sample_weight)\u001b[0m\n\u001b[1;32m    919\u001b[0m         \u001b[0mX\u001b[0m\u001b[0;34m,\u001b[0m \u001b[0my_ind\u001b[0m\u001b[0;34m,\u001b[0m \u001b[0msp\u001b[0m\u001b[0;34m.\u001b[0m\u001b[0misspmatrix\u001b[0m\u001b[0;34m(\u001b[0m\u001b[0mX\u001b[0m\u001b[0;34m)\u001b[0m\u001b[0;34m,\u001b[0m \u001b[0msolver_type\u001b[0m\u001b[0;34m,\u001b[0m \u001b[0mtol\u001b[0m\u001b[0;34m,\u001b[0m \u001b[0mbias\u001b[0m\u001b[0;34m,\u001b[0m \u001b[0mC\u001b[0m\u001b[0;34m,\u001b[0m\u001b[0;34m\u001b[0m\u001b[0;34m\u001b[0m\u001b[0m\n\u001b[1;32m    920\u001b[0m         \u001b[0mclass_weight_\u001b[0m\u001b[0;34m,\u001b[0m \u001b[0mmax_iter\u001b[0m\u001b[0;34m,\u001b[0m \u001b[0mrnd\u001b[0m\u001b[0;34m.\u001b[0m\u001b[0mrandint\u001b[0m\u001b[0;34m(\u001b[0m\u001b[0mnp\u001b[0m\u001b[0;34m.\u001b[0m\u001b[0miinfo\u001b[0m\u001b[0;34m(\u001b[0m\u001b[0;34m'i'\u001b[0m\u001b[0;34m)\u001b[0m\u001b[0;34m.\u001b[0m\u001b[0mmax\u001b[0m\u001b[0;34m)\u001b[0m\u001b[0;34m,\u001b[0m\u001b[0;34m\u001b[0m\u001b[0;34m\u001b[0m\u001b[0m\n\u001b[0;32m--> 921\u001b[0;31m         epsilon, sample_weight)\n\u001b[0m\u001b[1;32m    922\u001b[0m     \u001b[0;31m# Regarding rnd.randint(..) in the above signature:\u001b[0m\u001b[0;34m\u001b[0m\u001b[0;34m\u001b[0m\u001b[0;34m\u001b[0m\u001b[0m\n\u001b[1;32m    923\u001b[0m     \u001b[0;31m# seed for srand in range [0..INT_MAX); due to limitations in Numpy\u001b[0m\u001b[0;34m\u001b[0m\u001b[0;34m\u001b[0m\u001b[0;34m\u001b[0m\u001b[0m\n",
      "\u001b[0;31mKeyboardInterrupt\u001b[0m: "
     ]
    }
   ],
   "source": [
    "clf.fit(images_idf_featuers, np.array(classes_values[:20000]))"
   ]
  },
  {
   "cell_type": "code",
   "execution_count": null,
   "metadata": {},
   "outputs": [],
   "source": [
    "# Save Model\n",
    "print('dumping')\n",
    "joblib.dump((clf, classes, stdSlr, k, voc, idf), \"pkls/model.pkl\", compress=3)"
   ]
  },
  {
   "cell_type": "markdown",
   "metadata": {},
   "source": [
    "## Testing"
   ]
  },
  {
   "cell_type": "code",
   "execution_count": null,
   "metadata": {},
   "outputs": [],
   "source": [
    "# Testing\n",
    "test_Features = np.multiply(test_Features, idf[np.newaxis, :])\n",
    "test_Features = stdSlr.transform(test_Features)"
   ]
  },
  {
   "cell_type": "code",
   "execution_count": null,
   "metadata": {},
   "outputs": [],
   "source": [
    "true_class = [classes_names[i] for i in images_classes]\n",
    "prediction = [classes_names[i] for i in clf.predict(test_Features)]\n",
    "\n",
    "print(\"true class= \", true_class)\n",
    "print(\"prediction= \", prediction)"
   ]
  },
  {
   "cell_type": "code",
   "execution_count": null,
   "metadata": {},
   "outputs": [],
   "source": [
    "def show_confusion_matrix(cm):\n",
    "    plt.matshow(cm)\n",
    "    plt.title('Confusion Matrix')\n",
    "    plt.colorbar()\n",
    "    plt.show()\n",
    "\n",
    "accuracy = accuracy_score(true_class, prediction)\n",
    "cm = confusion_matrix(true_class, prediction)\n",
    "\n",
    "show_confusion_matrix(cm)"
   ]
  },
  {
   "cell_type": "markdown",
   "metadata": {},
   "source": [
    "# Data Mangemnet\n",
    "\n",
    "## Read Data paths"
   ]
  },
  {
   "cell_type": "code",
   "execution_count": 62,
   "metadata": {},
   "outputs": [],
   "source": [
    "import os\n",
    "from glob import glob\n",
    "import cv2\n",
    "import matplotlib.pyplot as plt\n",
    "from tqdm import tqdm\n",
    "import joblib\n",
    "import numpy as np\n",
    "from IPython.display import clear_output"
   ]
  },
  {
   "cell_type": "code",
   "execution_count": 34,
   "metadata": {},
   "outputs": [],
   "source": [
    "# Data Set Path which is words images with differant type of fonts\n",
    "data_path = '/Users/malikziq/DataSets/APIT_Arabic_Words_Images/'\n",
    "\n",
    "# Data file extention\n",
    "extention = '.png'\n",
    "\n",
    "# Data Dic, Total number of items in dic, classes in the dic\n",
    "data_dic = {}\n",
    "total_count = 0\n",
    "data_classes = []\n",
    "data_values = []\n",
    "classes_values = []\n",
    "\n"
   ]
  },
  {
   "cell_type": "code",
   "execution_count": 35,
   "metadata": {},
   "outputs": [
    {
     "name": "stdout",
     "output_type": "stream",
     "text": [
      "['/Users/malikziq/DataSets/APIT_Arabic_Words_Images/deco_type_naskh', '/Users/malikziq/DataSets/APIT_Arabic_Words_Images/advirtising_bold', '/Users/malikziq/DataSets/APIT_Arabic_Words_Images/andalus', '/Users/malikziq/DataSets/APIT_Arabic_Words_Images/diwani_letter', '/Users/malikziq/DataSets/APIT_Arabic_Words_Images/municode_sara']\n"
     ]
    }
   ],
   "source": [
    "print(glob(data_path + '*'))"
   ]
  },
  {
   "cell_type": "code",
   "execution_count": 36,
   "metadata": {
    "scrolled": true
   },
   "outputs": [
    {
     "name": "stdout",
     "output_type": "stream",
     "text": [
      "deco_type_naskh\n",
      "advirtising_bold\n",
      "andalus\n",
      "diwani_letter\n",
      "municode_sara\n"
     ]
    }
   ],
   "source": [
    "for each in glob(data_path + '*'):\n",
    "    # Take the last file name (Class) from the path \n",
    "    word = each.split(\"/\")[-1]\n",
    "    print(word)\n",
    "    \n",
    "    # Set new Class in the data_dic\n",
    "    data_dic[word] = []\n",
    "    data_classes.append(word)\n",
    "    \n",
    "    # Get data for each class\n",
    "    for root, dirs, files in os.walk(each):\n",
    "        for file in files:\n",
    "            if file.lower().endswith(extention):\n",
    "                imagePath = os.path.join(root, file)\n",
    "                data_dic[word].append(imagePath)\n",
    "                total_count += 1\n"
   ]
  },
  {
   "cell_type": "code",
   "execution_count": 37,
   "metadata": {},
   "outputs": [
    {
     "name": "stdout",
     "output_type": "stream",
     "text": [
      "dict_keys(['deco_type_naskh', 'advirtising_bold', 'andalus', 'diwani_letter', 'municode_sara'])\n",
      "['deco_type_naskh', 'advirtising_bold', 'andalus', 'diwani_letter', 'municode_sara']\n"
     ]
    }
   ],
   "source": [
    "print(data_dic.keys())\n",
    "print(data_classes)"
   ]
  },
  {
   "cell_type": "markdown",
   "metadata": {},
   "source": [
    "## Read The Images"
   ]
  },
  {
   "cell_type": "code",
   "execution_count": 38,
   "metadata": {},
   "outputs": [
    {
     "name": "stdout",
     "output_type": "stream",
     "text": [
      "/Users/malikziq/DataSets/APIT_Arabic_Words_Images/deco_type_naskh/DecoTypeNaskh_6_Bold/set104/Image_6_DecoType Naskh Extensions_8093.png\n"
     ]
    },
    {
     "data": {
      "text/plain": [
       "<matplotlib.image.AxesImage at 0x11bace490>"
      ]
     },
     "execution_count": 38,
     "metadata": {},
     "output_type": "execute_result"
    },
    {
     "data": {
      "image/png": "[encoded data removed]",
      "text/plain": [
       "<Figure size 432x288 with 1 Axes>"
      ]
     },
     "metadata": {
      "needs_background": "light"
     },
     "output_type": "display_data"
    }
   ],
   "source": [
    "# Gray Level Image\n",
    "print(data_dic['deco_type_naskh'][800])\n",
    "test_image = cv2.imread(data_dic['deco_type_naskh'][707], 0)\n",
    "\n",
    "\n",
    "plt.imshow(test_image)"
   ]
  },
  {
   "cell_type": "code",
   "execution_count": 39,
   "metadata": {
    "scrolled": true
   },
   "outputs": [
    {
     "data": {
      "image/png": "[encoded data removed]",
      "text/plain": [
       "<Figure size 432x288 with 6 Axes>"
      ]
     },
     "metadata": {},
     "output_type": "display_data"
    }
   ],
   "source": [
    "img = test_image\n",
    "ret,th1 = cv2.threshold(img,127,255,cv2.THRESH_BINARY)\n",
    "\n",
    "th2 = cv2.adaptiveThreshold(img,255,cv2.ADAPTIVE_THRESH_MEAN_C,\\\n",
    "            cv2.THRESH_BINARY,11,2)\n",
    "th3 = cv2.adaptiveThreshold(img,255,cv2.ADAPTIVE_THRESH_GAUSSIAN_C,\\\n",
    "            cv2.THRESH_BINARY,11,2)\n",
    "\n",
    "# Otsu's thresholding\n",
    "ret2,th4 = cv2.threshold(img,0,255,cv2.THRESH_BINARY+cv2.THRESH_OTSU)\n",
    "\n",
    "# Otsu's thresholding after Gaussian filtering\n",
    "blur = cv2.GaussianBlur(img,(5,5),0)\n",
    "ret3,th5 = cv2.threshold(blur,0,255,cv2.THRESH_BINARY+cv2.THRESH_OTSU)\n",
    "\n",
    "\n",
    "titles = ['Original Image', 'Global (v = 127)',\n",
    "            'Adaptive Mean', 'Adaptive Gaussian','Otsus','Otsus + GM']\n",
    "images = [img, th1, th2, th3, th4, th5]\n",
    "\n",
    "for i in range(6):\n",
    "    plt.subplot(2,3,i+1),plt.imshow(images[i],'gray')\n",
    "    plt.title(titles[i])\n",
    "    plt.xticks([]),plt.yticks([])\n",
    "plt.show()"
   ]
  },
  {
   "cell_type": "code",
   "execution_count": null,
   "metadata": {},
   "outputs": [],
   "source": [
    "class_id=0\n",
    "for cls in tqdm(data_classes, leave=False):\n",
    "    for each_path in tqdm(data_dic[cls], leave=True):\n",
    "        # Read Image in GRAY LEVEL\n",
    "        new_image = cv2.imread(each_path,0)\n",
    "        # Threshold using Otsu's\n",
    "        ret, th = cv2.threshold(new_image,0,255,cv2.THRESH_BINARY+cv2.THRESH_OTSU)\n",
    "        # Append Image to the list\n",
    "        data_values.append(th)\n",
    "        # Append Class Lable\n",
    "        classes_values.append(class_id)\n",
    "        \n",
    "    \n",
    "    class_id += 1\n",
    "        \n",
    "        "
   ]
  },
  {
   "cell_type": "code",
   "execution_count": 73,
   "metadata": {},
   "outputs": [
    {
     "data": {
      "text/plain": [
       "['words_img_values.pkl']"
      ]
     },
     "execution_count": 73,
     "metadata": {},
     "output_type": "execute_result"
    }
   ],
   "source": [
    "# used to save pickle data file\n",
    "#joblib.dump((data_classes, classes_values, data_values, total_count), \"words_img_values.pkl\", compress=3)"
   ]
  },
  {
   "cell_type": "code",
   "execution_count": 19,
   "metadata": {},
   "outputs": [
    {
     "name": "stdout",
     "output_type": "stream",
     "text": [
      "Total images =  94485\n"
     ]
    }
   ],
   "source": [
    "print('Total images = ', total_count)"
   ]
  },
  {
   "cell_type": "code",
   "execution_count": 1,
   "metadata": {},
   "outputs": [
    {
     "name": "stdout",
     "output_type": "stream",
     "text": [
      "# conda environments:\r\n",
      "#\r\n",
      "base                  *  /Users/malikziq/opt/anaconda3\r\n",
      "FountTypeDetection       /Users/malikziq/opt/anaconda3/envs/FountTypeDetection\r\n",
      "\r\n"
     ]
    }
   ],
   "source": [
    "!conda info --envs"
   ]
  },
  {
   "cell_type": "code",
   "execution_count": 2,
   "metadata": {},
   "outputs": [
    {
     "name": "stdout",
     "output_type": "stream",
     "text": [
      "alabaster==0.7.12\r\n",
      "anaconda-client==1.7.2\r\n",
      "anaconda-navigator==1.9.12\r\n",
      "anaconda-project==0.8.3\r\n",
      "appnope==0.1.0\r\n",
      "appscript==1.0.1\r\n",
      "asn1crypto==1.0.1\r\n",
      "astroid==2.3.1\r\n",
      "astropy==3.2.2\r\n",
      "atomicwrites==1.3.0\r\n",
      "attrs==19.2.0\r\n",
      "Babel==2.7.0\r\n",
      "backcall==0.1.0\r\n",
      "backports.functools-lru-cache==1.5\r\n",
      "backports.os==0.1.1\r\n",
      "backports.shutil-get-terminal-size==1.0.0\r\n",
      "backports.tempfile==1.0\r\n",
      "backports.weakref==1.0.post1\r\n",
      "beautifulsoup4==4.8.0\r\n",
      "bitarray==1.0.1\r\n",
      "bkcharts==0.2\r\n",
      "bleach==3.1.0\r\n",
      "bokeh==1.3.4\r\n",
      "boto==2.49.0\r\n",
      "Bottleneck==1.2.1\r\n",
      "certifi==2019.9.11\r\n",
      "cffi==1.12.3\r\n",
      "chardet==3.0.4\r\n",
      "Click==7.0\r\n",
      "cloudpickle==1.2.2\r\n",
      "clyent==1.2.2\r\n",
      "colorama==0.4.1\r\n",
      "conda==4.8.2\r\n",
      "conda-build==3.18.9\r\n",
      "conda-package-handling==1.6.0\r\n",
      "conda-verify==3.4.2\r\n",
      "contextlib2==0.6.0\r\n",
      "cryptography==2.7\r\n",
      "cycler==0.10.0\r\n",
      "Cython==0.29.13\r\n",
      "cytoolz==0.10.0\r\n",
      "dask==2.5.2\r\n",
      "decorator==4.4.0\r\n",
      "defusedxml==0.6.0\r\n",
      "distributed==2.5.2\r\n",
      "docutils==0.15.2\r\n",
      "entrypoints==0.3\r\n",
      "et-xmlfile==1.0.1\r\n",
      "fastcache==1.1.0\r\n",
      "filelock==3.0.12\r\n",
      "Flask==1.1.1\r\n",
      "fsspec==0.5.2\r\n",
      "future==0.17.1\r\n",
      "gevent==1.4.0\r\n",
      "glob2==0.7\r\n",
      "gmpy2==2.0.8\r\n",
      "greenlet==0.4.15\r\n",
      "h5py==2.9.0\r\n",
      "HeapDict==1.0.1\r\n",
      "html5lib==1.0.1\r\n",
      "idna==2.8\r\n",
      "imageio==2.6.0\r\n",
      "imagesize==1.1.0\r\n",
      "importlib-metadata==0.23\r\n",
      "ipykernel==5.1.2\r\n",
      "ipython==7.8.0\r\n",
      "ipython-genutils==0.2.0\r\n",
      "ipywidgets==7.5.1\r\n",
      "isort==4.3.21\r\n",
      "itsdangerous==1.1.0\r\n",
      "jdcal==1.4.1\r\n",
      "jedi==0.15.1\r\n",
      "Jinja2==2.10.3\r\n",
      "joblib==0.13.2\r\n",
      "json5==0.8.5\r\n",
      "jsonschema==3.0.2\r\n",
      "jupyter==1.0.0\r\n",
      "jupyter-client==5.3.3\r\n",
      "jupyter-console==6.0.0\r\n",
      "jupyter-core==4.5.0\r\n",
      "jupyterlab==1.1.4\r\n",
      "jupyterlab-server==1.0.6\r\n",
      "keyring==18.0.0\r\n",
      "kiwisolver==1.1.0\r\n",
      "lazy-object-proxy==1.4.2\r\n",
      "libarchive-c==2.8\r\n",
      "lief==0.9.0\r\n",
      "llvmlite==0.29.0\r\n",
      "locket==0.2.0\r\n",
      "lxml==4.4.1\r\n",
      "MarkupSafe==1.1.1\r\n",
      "matplotlib==3.1.1\r\n",
      "mccabe==0.6.1\r\n",
      "mistune==0.8.4\r\n",
      "mkl-fft==1.0.14\r\n",
      "mkl-random==1.1.0\r\n",
      "mkl-service==2.3.0\r\n",
      "mock==3.0.5\r\n",
      "more-itertools==7.2.0\r\n",
      "mpmath==1.1.0\r\n",
      "msgpack==0.6.1\r\n",
      "multipledispatch==0.6.0\r\n",
      "navigator-updater==0.2.1\r\n",
      "nbconvert==5.6.0\r\n",
      "nbformat==4.4.0\r\n",
      "networkx==2.3\r\n",
      "nltk==3.4.5\r\n",
      "nose==1.3.7\r\n",
      "notebook==6.0.1\r\n",
      "numba==0.45.1\r\n",
      "numexpr==2.7.0\r\n",
      "numpy==1.17.2\r\n",
      "numpydoc==0.9.1\r\n",
      "olefile==0.46\r\n",
      "opencv-contrib-python==3.4.2.16\r\n",
      "openpyxl==3.0.0\r\n",
      "packaging==19.2\r\n",
      "pandas==0.25.1\r\n",
      "pandocfilters==1.4.2\r\n",
      "parso==0.5.1\r\n",
      "partd==1.0.0\r\n",
      "path.py==12.0.1\r\n",
      "pathlib2==2.3.5\r\n",
      "patsy==0.5.1\r\n",
      "pep8==1.7.1\r\n",
      "pexpect==4.7.0\r\n",
      "pickleshare==0.7.5\r\n",
      "Pillow==6.2.0\r\n",
      "pkginfo==1.5.0.1\r\n",
      "pluggy==0.13.0\r\n",
      "ply==3.11\r\n",
      "prometheus-client==0.7.1\r\n",
      "prompt-toolkit==2.0.10\r\n",
      "psutil==5.6.3\r\n",
      "ptyprocess==0.6.0\r\n",
      "py==1.8.0\r\n",
      "pycodestyle==2.5.0\r\n",
      "pycosat==0.6.3\r\n",
      "pycparser==2.19\r\n",
      "pycrypto==2.6.1\r\n",
      "pycurl==7.43.0.3\r\n",
      "pyflakes==2.1.1\r\n",
      "Pygments==2.4.2\r\n",
      "pylint==2.4.2\r\n",
      "pyodbc==4.0.27\r\n",
      "pyOpenSSL==19.0.0\r\n",
      "pyparsing==2.4.2\r\n",
      "pyrsistent==0.15.4\r\n",
      "PySocks==1.7.1\r\n",
      "pytest==5.2.1\r\n",
      "pytest-arraydiff==0.3\r\n",
      "pytest-astropy==0.5.0\r\n",
      "pytest-doctestplus==0.4.0\r\n",
      "pytest-openfiles==0.4.0\r\n",
      "pytest-remotedata==0.3.2\r\n",
      "python-dateutil==2.8.0\r\n",
      "pytz==2019.3\r\n",
      "PyWavelets==1.0.3\r\n",
      "PyYAML==5.1.2\r\n",
      "pyzmq==18.1.0\r\n",
      "QtAwesome==0.6.0\r\n",
      "qtconsole==4.5.5\r\n",
      "QtPy==1.9.0\r\n",
      "requests==2.22.0\r\n",
      "rope==0.14.0\r\n",
      "ruamel-yaml==0.15.46\r\n",
      "scikit-image==0.15.0\r\n",
      "scikit-learn==0.21.3\r\n",
      "scipy==1.3.1\r\n",
      "seaborn==0.9.0\r\n",
      "Send2Trash==1.5.0\r\n",
      "simplegeneric==0.8.1\r\n",
      "singledispatch==3.4.0.3\r\n",
      "six==1.12.0\r\n",
      "snowballstemmer==2.0.0\r\n",
      "sortedcollections==1.1.2\r\n",
      "sortedcontainers==2.1.0\r\n",
      "soupsieve==1.9.3\r\n",
      "Sphinx==2.2.0\r\n",
      "sphinxcontrib-applehelp==1.0.1\r\n",
      "sphinxcontrib-devhelp==1.0.1\r\n",
      "sphinxcontrib-htmlhelp==1.0.2\r\n",
      "sphinxcontrib-jsmath==1.0.1\r\n",
      "sphinxcontrib-qthelp==1.0.2\r\n",
      "sphinxcontrib-serializinghtml==1.1.3\r\n",
      "sphinxcontrib-websupport==1.1.2\r\n",
      "spyder==3.3.6\r\n",
      "spyder-kernels==0.5.2\r\n",
      "SQLAlchemy==1.3.9\r\n",
      "statsmodels==0.10.1\r\n",
      "sympy==1.4\r\n",
      "tables==3.5.2\r\n",
      "tblib==1.4.0\r\n",
      "terminado==0.8.2\r\n",
      "testpath==0.4.2\r\n",
      "toolz==0.10.0\r\n",
      "tornado==6.0.3\r\n",
      "tqdm==4.36.1\r\n",
      "traitlets==4.3.3\r\n",
      "unicodecsv==0.14.1\r\n",
      "urllib3==1.24.2\r\n",
      "wcwidth==0.1.7\r\n",
      "webencodings==0.5.1\r\n",
      "Werkzeug==0.16.0\r\n",
      "widgetsnbextension==3.5.1\r\n",
      "wrapt==1.11.2\r\n",
      "wurlitzer==1.0.3\r\n",
      "xlrd==1.2.0\r\n",
      "XlsxWriter==1.2.1\r\n",
      "xlwings==0.15.10\r\n",
      "xlwt==1.3.0\r\n",
      "xmltodict==0.12.0\r\n",
      "zict==1.0.0\r\n",
      "zipp==0.6.0\r\n"
     ]
    }
   ],
   "source": [
    "!pip3 freeze"
   ]
  },
  {
   "cell_type": "code",
   "execution_count": null,
   "metadata": {},
   "outputs": [],
   "source": []
  }
 ],
 "metadata": {
  "kernelspec": {
   "display_name": "Python 3",
   "language": "python",
   "name": "python3"
  },
  "language_info": {
   "codemirror_mode": {
    "name": "ipython",
    "version": 3
   },
   "file_extension": ".py",
   "mimetype": "text/x-python",
   "name": "python",
   "nbconvert_exporter": "python",
   "pygments_lexer": "ipython3",
   "version": "3.7.4"
  }
 },
 "nbformat": 4,
 "nbformat_minor": 4
}
